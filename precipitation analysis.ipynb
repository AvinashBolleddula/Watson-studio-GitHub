{
    "cells": [
        {
            "cell_type": "code",
            "execution_count": 1,
            "metadata": {},
            "outputs": [
                {
                    "name": "stdout",
                    "output_type": "stream",
                    "text": "+--------+---------+-----------+-------------+-------------+-------------+-------------+---------+----------+------------------+------------------+------------------+------------------+--------------+---------------+-----------+------------+-----------------+\n|policyID|statecode|     county|eq_site_limit|hu_site_limit|fl_site_limit|fr_site_limit| tiv_2011|  tiv_2012|eq_site_deductible|hu_site_deductible|fl_site_deductible|fr_site_deductible|point_latitude|point_longitude|       line|construction|point_granularity|\n+--------+---------+-----------+-------------+-------------+-------------+-------------+---------+----------+------------------+------------------+------------------+------------------+--------------+---------------+-----------+------------+-----------------+\n|  119736|       FL|CLAY COUNTY|     498960.0|     498960.0|     498960.0|     498960.0| 498960.0|  792148.9|               0.0|            9979.2|               0.0|                 0|     30.102261|     -81.711777|Residential|     Masonry|                1|\n|  448094|       FL|CLAY COUNTY|    1322376.3|    1322376.3|    1322376.3|    1322376.3|1322376.3|1438163.57|               0.0|               0.0|               0.0|                 0|     30.063936|     -81.707664|Residential|     Masonry|                3|\n|  206893|       FL|CLAY COUNTY|     190724.4|     190724.4|     190724.4|     190724.4| 190724.4| 192476.78|               0.0|               0.0|               0.0|                 0|     30.089579|     -81.700455|Residential|        Wood|                1|\n|  333743|       FL|CLAY COUNTY|          0.0|     79520.76|          0.0|          0.0| 79520.76|  86854.48|               0.0|               0.0|               0.0|                 0|     30.063236|     -81.707703|Residential|        Wood|                3|\n|  172534|       FL|CLAY COUNTY|          0.0|     254281.5|          0.0|     254281.5| 254281.5| 246144.49|               0.0|               0.0|               0.0|                 0|     30.060614|     -81.702675|Residential|        Wood|                1|\n+--------+---------+-----------+-------------+-------------+-------------+-------------+---------+----------+------------------+------------------+------------------+------------------+--------------+---------------+-----------+------------+-----------------+\nonly showing top 5 rows\n"
                },
                {
                    "data": {
                        "text/plain": "configurationName = os_8d5211c17f2547c1baedcf33e6034d29_configs\ncos = com.ibm.ibmos2spark.CloudObjectStorage@ef085eb8\nspark = org.apache.spark.sql.SparkSession@571eba03\ndfData1 = [policyID: int, statecode: string ... 16 more fields]\n"
                    },
                    "metadata": {},
                    "output_type": "display_data"
                },
                {
                    "data": {
                        "text/plain": "getCredentials: ()scala.collection.mutable.HashMap[String,String]\n"
                    },
                    "metadata": {},
                    "output_type": "display_data"
                },
                {
                    "data": {
                        "text/plain": "[policyID: int, statecode: string ... 16 more fields]"
                    },
                    "execution_count": 1,
                    "metadata": {},
                    "output_type": "execute_result"
                }
            ],
            "source": "// The code was removed by Watson Studio for sharing."
        },
        {
            "cell_type": "code",
            "execution_count": null,
            "metadata": {},
            "outputs": [],
            "source": ""
        }
    ],
    "metadata": {
        "kernelspec": {
            "display_name": "Scala 2.11 with Spark",
            "language": "scala",
            "name": "scala"
        },
        "language_info": {
            "codemirror_mode": "text/x-scala",
            "file_extension": ".scala",
            "mimetype": "text/x-scala",
            "name": "scala",
            "pygments_lexer": "scala",
            "version": "2.11.12"
        }
    },
    "nbformat": 4,
    "nbformat_minor": 1
}